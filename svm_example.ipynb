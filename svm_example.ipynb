{
 "cells": [
  {
   "cell_type": "markdown",
   "id": "5570bb69",
   "metadata": {},
   "source": [
    "## 🧪 Example of Implementation\n",
    "\n",
    "### 📊 Data Generation\n",
    "We generate a synthetic dataset suitable for classification to clearly demonstrate model fitting and evaluation.\n",
    "\n",
    "### 🏋️‍♂️ Training and Evaluation\n",
    "We train each classifier:\n",
    "\n",
    "- `LinearSVC`\n",
    "- `SVC` with RBF kernel\n",
    "- `NuSVC`\n",
    "\n",
    "on the training data, then evaluate their accuracy on the test set to compare performance.\n",
    "\n",
    "### 🔧 Experimentation\n",
    "Experiment with parameters such as:\n",
    "\n",
    "- `C` (regularization strength)\n",
    "- `kernel` type\n",
    "\n",
    "Observe how accuracy changes.  \n",
    "For more complex datasets, use **Grid Search** or **Random Search** to systematically optimize hyperparameters.\n"
   ]
  },
  {
   "cell_type": "code",
   "execution_count": 3,
   "id": "5effb60e",
   "metadata": {},
   "outputs": [
    {
     "name": "stdout",
     "output_type": "stream",
     "text": [
      "LinearSVC Accuracy: 0.99\n",
      "SVC (RBF) Accuracy: 0.99\n",
      "NuSVC Accuracy: 1.00\n",
      "SVC (Poly) Accuracy: 0.99\n"
     ]
    }
   ],
   "source": [
    "import numpy as np\n",
    "from sklearn.datasets import make_classification\n",
    "from sklearn.model_selection import train_test_split\n",
    "from sklearn.svm import LinearSVC, SVC, NuSVC\n",
    "from sklearn.metrics import accuracy_score\n",
    "\n",
    "# Step 1: Create a synthetic classification dataset\n",
    "X, y = make_classification(n_samples=500, n_features=10, n_informative=5,n_redundant=2, n_clusters_per_class=1,random_state=42)\n",
    "\n",
    "# Step 2: Split the dataset into training and testing sets\n",
    "X_train, X_test, y_train, y_test = train_test_split(X, y,test_size=0.2, random_state=42)\n",
    "\n",
    "# Step 3: Train a LinearSVC model (linear kernel only)\n",
    "linear_clf = LinearSVC(random_state=42, max_iter=10000)\n",
    "linear_clf.fit(X_train, y_train)\n",
    "y_pred_linear = linear_clf.predict(X_test)\n",
    "acc_linear = accuracy_score(y_test, y_pred_linear)\n",
    "y_pred_linear_train = linear_clf.predict(X_train)\n",
    "acc_linear_train = accuracy_score(y_train, y_pred_linear_train)\n",
    "print(f\"LinearSVC Accuracy: {acc_linear:.2f}\")\n",
    "\n",
    "# Step 4: Train an SVC with the default RBF kernel\n",
    "rbf_clf = SVC(kernel='rbf', C=1.0, gamma='scale', random_state=42)\n",
    "rbf_clf.fit(X_train, y_train)\n",
    "y_pred_rbf = rbf_clf.predict(X_test)\n",
    "acc_rbf = accuracy_score(y_test, y_pred_rbf)\n",
    "print(f\"SVC (RBF) Accuracy: {acc_rbf:.2f}\")\n",
    "\n",
    "# Step 5: Train a NuSVC (RBF kernel by default)\n",
    "nu_clf = NuSVC(nu=0.5, kernel='rbf', gamma='scale', random_state=42)\n",
    "nu_clf.fit(X_train, y_train)\n",
    "y_pred_nu = nu_clf.predict(X_test)\n",
    "acc_nu = accuracy_score(y_test, y_pred_nu)\n",
    "print(f\"NuSVC Accuracy: {acc_nu:.2f}\")\n",
    "\n",
    "# Optional: Experiment with a polynomial kernel\n",
    "poly_clf = SVC(kernel='poly', degree=3, C=1.0, gamma='scale', random_state=42)\n",
    "poly_clf.fit(X_train, y_train)\n",
    "y_pred_poly = poly_clf.predict(X_test)\n",
    "acc_poly = accuracy_score(y_test, y_pred_poly)\n",
    "print(f\"SVC (Poly) Accuracy: {acc_poly:.2f}\")\n",
    "\n"
   ]
  },
  {
   "cell_type": "markdown",
   "id": "b11ed521",
   "metadata": {},
   "source": [
    "# 🌸 Classifying the Iris Dataset with Support Vector Machines (SVM)\n",
    "\n",
    "The **Iris dataset** is a classical example in machine learning. It involves classifying iris flowers into three distinct species:\n",
    "\n",
    "- *Iris setosa*\n",
    "- *Iris versicolor*\n",
    "- *Iris virginica*\n",
    "\n",
    "based on four numerical features:\n",
    "\n",
    "- Sepal length\n",
    "- Sepal width\n",
    "- Petal length\n",
    "- Petal width\n",
    "\n",
    "---\n",
    "\n",
    "## 📋 Dataset Overview\n",
    "\n",
    "- **Number of instances**: 150 (50 samples per species)  \n",
    "- **Number of features**: 4 (all continuous)  \n",
    "- **Number of classes**: 3 (multiclass classification problem)\n",
    "\n",
    "This dataset is simple, clean, and well-balanced. Many machine learning models, including SVMs, can achieve high accuracy on it.\n",
    "\n",
    "---\n",
    "\n",
    "## 🤖 Using SVM to Classify Iris Flowers\n",
    "\n",
    "Support Vector Machines aim to find the **optimal hyperplane** that best separates classes in a high-dimensional space.\n",
    "\n",
    "Although SVMs are primarily designed for **binary classification**, they can be extended for **multiclass problems** using techniques like **one-vs-rest** or **one-vs-one**—which are often handled internally by libraries like scikit-learn.\n"
   ]
  },
  {
   "cell_type": "code",
   "execution_count": 4,
   "id": "8209ed49",
   "metadata": {},
   "outputs": [
    {
     "name": "stdout",
     "output_type": "stream",
     "text": [
      "Confusion Matrix:\n",
      "[[19  0  0]\n",
      " [ 0 13  0]\n",
      " [ 0  0 13]]\n",
      "Accuracy: 100.00%\n"
     ]
    }
   ],
   "source": [
    "from sklearn.datasets import load_iris\n",
    "from sklearn.model_selection import train_test_split\n",
    "from sklearn.svm import SVC\n",
    "from sklearn.metrics import confusion_matrix, accuracy_score\n",
    "\n",
    "# Step 1: Load the Iris dataset\n",
    "iris = load_iris()\n",
    "# Features: Sepal length, sepal width, petal length,petal width\n",
    "X = iris.data     \n",
    "y = iris.target    # Target: 0 (setosa), 1 (versicolor), 2 (virginica)\n",
    "\n",
    "# Step 2: Split into training and testing sets\n",
    "# Let's use 70% for training and 30% for testing\n",
    "X_train, X_test, y_train, y_test = train_test_split(X, y, test_size=0.3, random_state=42)\n",
    "\n",
    "# Step 3: Instantiate and train the SVM classifier\n",
    "# We will use the default kernel='rbf', C=1.0, gamma='scale'\n",
    "clf = SVC(random_state=42)\n",
    "clf.fit(X_train, y_train)\n",
    "\n",
    "# Step 4: Make predictions on the test set\n",
    "y_pred = clf.predict(X_test)\n",
    "\n",
    "# Step 5: Evaluate the classifier\n",
    "cm = confusion_matrix(y_test, y_pred)\n",
    "acc = accuracy_score(y_test, y_pred)\n",
    "\n",
    "print(\"Confusion Matrix:\")\n",
    "print(cm)\n",
    "print(f\"Accuracy: {acc*100:.2f}%\")"
   ]
  }
 ],
 "metadata": {
  "kernelspec": {
   "display_name": "Python 3",
   "language": "python",
   "name": "python3"
  },
  "language_info": {
   "codemirror_mode": {
    "name": "ipython",
    "version": 3
   },
   "file_extension": ".py",
   "mimetype": "text/x-python",
   "name": "python",
   "nbconvert_exporter": "python",
   "pygments_lexer": "ipython3",
   "version": "3.11.0"
  }
 },
 "nbformat": 4,
 "nbformat_minor": 5
}
